{
  "nbformat": 4,
  "nbformat_minor": 0,
  "metadata": {
    "colab": {
      "provenance": []
    },
    "kernelspec": {
      "name": "python3",
      "display_name": "Python 3"
    },
    "language_info": {
      "name": "python"
    }
  },
  "cells": [
    {
      "cell_type": "markdown",
      "source": [
        "# Audio Analysis (FLAC File Analysis)\n",
        "\n",
        "In this colab, we're going to explore the various ways on performing audio analysis. We're going to take all files that corresponds to a specific speaker identity.\n",
        "\n",
        "I'm going to use a manual method (instead of using a library, e.g. SoX). This is done so we can get a detailed analysis on each of the information in the FLAC format.\n",
        "\n",
        "Format of the file can be seen here: https://xiph.org/flac/documentation_format_overview.html."
      ],
      "metadata": {
        "id": "XkSlk_chG4MR"
      }
    },
    {
      "cell_type": "code",
      "execution_count": 10,
      "metadata": {
        "id": "wu4NWYJoGm39"
      },
      "outputs": [],
      "source": [
        "import numpy as np\n",
        "import zipfile\n",
        "import gc\n",
        "import cv2\n",
        "import math\n",
        "import warnings\n",
        "import random\n",
        "import os\n",
        "import pandas as pd\n",
        "import matplotlib.pyplot as plt\n",
        "import seaborn as sns\n",
        "import albumentations as A\n",
        "import sox\n",
        "import torchvision\n",
        "import torchvision.transforms.functional as TF\n",
        "import torchvision.transforms as transforms\n",
        "import torch.utils.data as data_utils\n",
        "import torch\n",
        "import torchvision\n",
        "import torchvision.transforms as transforms\n",
        "import torch.optim as optim\n",
        "import torch.nn as nn\n",
        "# import torchmetrics\n",
        "import torch.nn.functional as F\n",
        "import PIL\n",
        "import torch.utils.data as data_utils\n",
        "import json\n",
        "import struct # Library to parse the data as binary file.\n",
        "\n",
        "# import pytorch_lightning as pl\n",
        "import imutils\n",
        "import zipfile\n",
        "\n",
        "from torch.utils.data import Dataset\n",
        "from sklearn.preprocessing import LabelBinarizer\n",
        "from sklearn.model_selection import train_test_split\n",
        "from sklearn.metrics import classification_report\n",
        "from tensorflow.python.client import device_lib\n",
        "from zipfile import ZipFile\n",
        "from IPython import display\n",
        "from torchvision import models, transforms\n",
        "from google.colab.patches import cv2_imshow\n",
        "from sklearn.metrics import confusion_matrix, roc_curve\n",
        "from sklearn.preprocessing import LabelEncoder\n",
        "from torchvision.models.feature_extraction import create_feature_extractor\n",
        "from PIL import Image\n",
        "from collections import defaultdict\n",
        "from google.colab import drive"
      ]
    },
    {
      "cell_type": "code",
      "source": [
        "! sudo apt install sox\n",
        "! pip install sox"
      ],
      "metadata": {
        "colab": {
          "base_uri": "https://localhost:8080/"
        },
        "id": "57PMneMkk_5_",
        "outputId": "090c1ccc-05b3-463b-ba8d-0fbd2d3f4168"
      },
      "execution_count": 2,
      "outputs": [
        {
          "output_type": "stream",
          "name": "stdout",
          "text": [
            "Reading package lists... Done\n",
            "Building dependency tree... Done\n",
            "Reading state information... Done\n",
            "The following additional packages will be installed:\n",
            "  libopencore-amrnb0 libopencore-amrwb0 libsox-fmt-alsa libsox-fmt-base\n",
            "  libsox3 libwavpack1\n",
            "Suggested packages:\n",
            "  libsox-fmt-all\n",
            "The following NEW packages will be installed:\n",
            "  libopencore-amrnb0 libopencore-amrwb0 libsox-fmt-alsa libsox-fmt-base\n",
            "  libsox3 libwavpack1 sox\n",
            "0 upgraded, 7 newly installed, 0 to remove and 19 not upgraded.\n",
            "Need to get 617 kB of archives.\n",
            "After this operation, 1,764 kB of additional disk space will be used.\n",
            "Get:1 http://archive.ubuntu.com/ubuntu jammy/universe amd64 libopencore-amrnb0 amd64 0.1.5-1 [94.8 kB]\n",
            "Get:2 http://archive.ubuntu.com/ubuntu jammy/universe amd64 libopencore-amrwb0 amd64 0.1.5-1 [49.1 kB]\n",
            "Get:3 http://archive.ubuntu.com/ubuntu jammy-updates/universe amd64 libsox3 amd64 14.4.2+git20190427-2+deb11u2ubuntu0.22.04.1 [240 kB]\n",
            "Get:4 http://archive.ubuntu.com/ubuntu jammy-updates/universe amd64 libsox-fmt-alsa amd64 14.4.2+git20190427-2+deb11u2ubuntu0.22.04.1 [11.2 kB]\n",
            "Get:5 http://archive.ubuntu.com/ubuntu jammy/main amd64 libwavpack1 amd64 5.4.0-1build2 [83.7 kB]\n",
            "Get:6 http://archive.ubuntu.com/ubuntu jammy-updates/universe amd64 libsox-fmt-base amd64 14.4.2+git20190427-2+deb11u2ubuntu0.22.04.1 [33.7 kB]\n",
            "Get:7 http://archive.ubuntu.com/ubuntu jammy-updates/universe amd64 sox amd64 14.4.2+git20190427-2+deb11u2ubuntu0.22.04.1 [104 kB]\n",
            "Fetched 617 kB in 1s (700 kB/s)\n",
            "debconf: unable to initialize frontend: Dialog\n",
            "debconf: (No usable dialog-like program is installed, so the dialog based frontend cannot be used. at /usr/share/perl5/Debconf/FrontEnd/Dialog.pm line 78, <> line 7.)\n",
            "debconf: falling back to frontend: Readline\n",
            "debconf: unable to initialize frontend: Readline\n",
            "debconf: (This frontend requires a controlling tty.)\n",
            "debconf: falling back to frontend: Teletype\n",
            "dpkg-preconfigure: unable to re-open stdin: \n",
            "Selecting previously unselected package libopencore-amrnb0:amd64.\n",
            "(Reading database ... 120874 files and directories currently installed.)\n",
            "Preparing to unpack .../0-libopencore-amrnb0_0.1.5-1_amd64.deb ...\n",
            "Unpacking libopencore-amrnb0:amd64 (0.1.5-1) ...\n",
            "Selecting previously unselected package libopencore-amrwb0:amd64.\n",
            "Preparing to unpack .../1-libopencore-amrwb0_0.1.5-1_amd64.deb ...\n",
            "Unpacking libopencore-amrwb0:amd64 (0.1.5-1) ...\n",
            "Selecting previously unselected package libsox3:amd64.\n",
            "Preparing to unpack .../2-libsox3_14.4.2+git20190427-2+deb11u2ubuntu0.22.04.1_amd64.deb ...\n",
            "Unpacking libsox3:amd64 (14.4.2+git20190427-2+deb11u2ubuntu0.22.04.1) ...\n",
            "Selecting previously unselected package libsox-fmt-alsa:amd64.\n",
            "Preparing to unpack .../3-libsox-fmt-alsa_14.4.2+git20190427-2+deb11u2ubuntu0.22.04.1_amd64.deb ...\n",
            "Unpacking libsox-fmt-alsa:amd64 (14.4.2+git20190427-2+deb11u2ubuntu0.22.04.1) ...\n",
            "Selecting previously unselected package libwavpack1:amd64.\n",
            "Preparing to unpack .../4-libwavpack1_5.4.0-1build2_amd64.deb ...\n",
            "Unpacking libwavpack1:amd64 (5.4.0-1build2) ...\n",
            "Selecting previously unselected package libsox-fmt-base:amd64.\n",
            "Preparing to unpack .../5-libsox-fmt-base_14.4.2+git20190427-2+deb11u2ubuntu0.22.04.1_amd64.deb ...\n",
            "Unpacking libsox-fmt-base:amd64 (14.4.2+git20190427-2+deb11u2ubuntu0.22.04.1) ...\n",
            "Selecting previously unselected package sox.\n",
            "Preparing to unpack .../6-sox_14.4.2+git20190427-2+deb11u2ubuntu0.22.04.1_amd64.deb ...\n",
            "Unpacking sox (14.4.2+git20190427-2+deb11u2ubuntu0.22.04.1) ...\n",
            "Setting up libsox3:amd64 (14.4.2+git20190427-2+deb11u2ubuntu0.22.04.1) ...\n",
            "Setting up libopencore-amrwb0:amd64 (0.1.5-1) ...\n",
            "Setting up libsox-fmt-alsa:amd64 (14.4.2+git20190427-2+deb11u2ubuntu0.22.04.1) ...\n",
            "Setting up libwavpack1:amd64 (5.4.0-1build2) ...\n",
            "Setting up libopencore-amrnb0:amd64 (0.1.5-1) ...\n",
            "Setting up libsox-fmt-base:amd64 (14.4.2+git20190427-2+deb11u2ubuntu0.22.04.1) ...\n",
            "Setting up sox (14.4.2+git20190427-2+deb11u2ubuntu0.22.04.1) ...\n",
            "Processing triggers for man-db (2.10.2-1) ...\n",
            "Processing triggers for libc-bin (2.35-0ubuntu3.1) ...\n",
            "/sbin/ldconfig.real: /usr/local/lib/libtbb.so.12 is not a symbolic link\n",
            "\n",
            "/sbin/ldconfig.real: /usr/local/lib/libtbbbind.so.3 is not a symbolic link\n",
            "\n",
            "/sbin/ldconfig.real: /usr/local/lib/libtbbbind_2_5.so.3 is not a symbolic link\n",
            "\n",
            "/sbin/ldconfig.real: /usr/local/lib/libtbbbind_2_0.so.3 is not a symbolic link\n",
            "\n",
            "/sbin/ldconfig.real: /usr/local/lib/libtbbmalloc_proxy.so.2 is not a symbolic link\n",
            "\n",
            "/sbin/ldconfig.real: /usr/local/lib/libtbbmalloc.so.2 is not a symbolic link\n",
            "\n",
            "Collecting sox\n",
            "  Downloading sox-1.4.1-py2.py3-none-any.whl (39 kB)\n",
            "Requirement already satisfied: numpy>=1.9.0 in /usr/local/lib/python3.10/dist-packages (from sox) (1.23.5)\n",
            "Installing collected packages: sox\n",
            "Successfully installed sox-1.4.1\n"
          ]
        }
      ]
    },
    {
      "cell_type": "markdown",
      "source": [
        "Load the dataset from LibSpeech"
      ],
      "metadata": {
        "id": "VKfa4UvEPOQB"
      }
    },
    {
      "cell_type": "code",
      "source": [
        "! wget https://www.openslr.org/resources/12/train-clean-100.tar.gz -O libspeech.tar.gz\n",
        "! tar -xzf libspeech.tar.gz"
      ],
      "metadata": {
        "colab": {
          "base_uri": "https://localhost:8080/"
        },
        "id": "bGmDOJCcPNzE",
        "outputId": "8c76e918-3e53-4217-9c7f-1d5573240e90"
      },
      "execution_count": 3,
      "outputs": [
        {
          "output_type": "stream",
          "name": "stdout",
          "text": [
            "--2023-11-12 12:54:53--  https://www.openslr.org/resources/12/train-clean-100.tar.gz\n",
            "Resolving www.openslr.org (www.openslr.org)... 46.101.158.64\n",
            "Connecting to www.openslr.org (www.openslr.org)|46.101.158.64|:443... connected.\n",
            "HTTP request sent, awaiting response... 302 Found\n",
            "Location: http://us.openslr.org/resources/12/train-clean-100.tar.gz [following]\n",
            "--2023-11-12 12:54:54--  http://us.openslr.org/resources/12/train-clean-100.tar.gz\n",
            "Resolving us.openslr.org (us.openslr.org)... 46.101.158.64\n",
            "Connecting to us.openslr.org (us.openslr.org)|46.101.158.64|:80... connected.\n",
            "HTTP request sent, awaiting response... 200 OK\n",
            "Length: 6387309499 (5.9G) [application/x-gzip]\n",
            "Saving to: ‘libspeech.tar.gz’\n",
            "\n",
            "libspeech.tar.gz    100%[===================>]   5.95G  37.2MB/s    in 2m 57s  \n",
            "\n",
            "2023-11-12 12:57:51 (34.5 MB/s) - ‘libspeech.tar.gz’ saved [6387309499/6387309499]\n",
            "\n"
          ]
        }
      ]
    },
    {
      "cell_type": "markdown",
      "source": [
        "## Data Analysis (Single File)\n",
        "\n",
        "From the documentation, the basic structure of a FLAC stream is:\n",
        "* The four byte string \"fLaC\"\n",
        "* The STREAMINFO metadata block (METADATA_BLOCK)\n",
        "* Zero or more other metadata blocks (METADATA_BLOCK*)\n",
        "* One or more audio frames (FRAME+)\n",
        "\n",
        "Characteristics of the blocks defined in the FLAC file:\n",
        "\n",
        "* All numbers used in a FLAC bitstream are integers\n",
        "* There are no floating-point representations.\n",
        "* All numbers are big-endian coded.\n",
        "* All numbers are unsigned unless otherwise specified.\n",
        "\n"
      ],
      "metadata": {
        "id": "XlLHQeYiSoeB"
      }
    },
    {
      "cell_type": "code",
      "source": [
        "sample_path = \"/content/LibriSpeech/train-clean-100/103/1240/103-1240-0000.flac\"\n",
        "sample_file = open(sample_path, mode = \"rb\")\n",
        "sample_file"
      ],
      "metadata": {
        "colab": {
          "base_uri": "https://localhost:8080/"
        },
        "id": "qGtHW2wWXMIF",
        "outputId": "a172fe27-1137-42cf-ca91-7dbb5cd23da8"
      },
      "execution_count": 24,
      "outputs": [
        {
          "output_type": "execute_result",
          "data": {
            "text/plain": [
              "<_io.BufferedReader name='/content/LibriSpeech/train-clean-100/103/1240/103-1240-0000.flac'>"
            ]
          },
          "metadata": {},
          "execution_count": 24
        }
      ]
    },
    {
      "cell_type": "markdown",
      "source": [
        "Read the first 4 byte string, which is fLaC."
      ],
      "metadata": {
        "id": "tKI2Sp1TOz_m"
      }
    },
    {
      "cell_type": "code",
      "source": [
        "chunk_id = sample_file.read(4)\n",
        "chunk_id"
      ],
      "metadata": {
        "colab": {
          "base_uri": "https://localhost:8080/"
        },
        "id": "cmn8ukLqKHQK",
        "outputId": "0deda9f3-ae55-48f1-e5d7-20c2a02438d7"
      },
      "execution_count": 25,
      "outputs": [
        {
          "output_type": "execute_result",
          "data": {
            "text/plain": [
              "b'fLaC'"
            ]
          },
          "metadata": {},
          "execution_count": 25
        }
      ]
    },
    {
      "cell_type": "markdown",
      "source": [
        "METADATA_BLOCK consists of 2 things: METADATA_BLOCK_HEADER and METADATA_BLOCK_DATA"
      ],
      "metadata": {
        "id": "hrI_NE_D2zej"
      }
    },
    {
      "cell_type": "markdown",
      "source": [
        "### METADATA_BLOCK_HEADER"
      ],
      "metadata": {
        "id": "pKIfGVMV21DK"
      }
    },
    {
      "cell_type": "markdown",
      "source": [
        "\n",
        "\n",
        "METADATA_BLOCK_HEADER block size: 1, 7, and 24 bits. Total = 32 bits.\n",
        "\n",
        "Now, let's read STREAMINFO block, which is mandatory for FLAC format. This block has plenty of informations, such as sample rate, number of channels.\n",
        "\n",
        "How to get all of the information in the structure? Simply put, we take all of the bits in the METADATA_BLOCK_HEADER, then we can get the bit information with binary operations."
      ],
      "metadata": {
        "id": "vfPkQxG3aLsg"
      }
    },
    {
      "cell_type": "code",
      "source": [
        "metadata_block_header_packed = sample_file.read(4)\n",
        "\n",
        "# Unpack the bytes as an unsigned integer\n",
        "metadata_block_header_unpacked = struct.unpack('>I', metadata_block_header_packed)[0]\n",
        "print(metadata_block_header_unpacked)"
      ],
      "metadata": {
        "colab": {
          "base_uri": "https://localhost:8080/"
        },
        "id": "gbeorwnac8d2",
        "outputId": "f75fca80-b896-4d0f-9b03-025097cc8e4e"
      },
      "execution_count": 26,
      "outputs": [
        {
          "output_type": "stream",
          "name": "stdout",
          "text": [
            "34\n"
          ]
        }
      ]
    },
    {
      "cell_type": "code",
      "source": [
        "metadata_block_header_unpacked_copied = metadata_block_header_unpacked\n",
        "\n",
        "# Extract and print 1 bit\n",
        "sample_rate = (metadata_block_header_unpacked_copied >> 31) & 0x1\n",
        "\n",
        "# Extract and print the next 7 bits\n",
        "bits2_to_8 = (metadata_block_header_unpacked_copied >> 24) & 0b1111111\n",
        "\n",
        "# Extract and print the next 24 bits\n",
        "bits9_to_32 = metadata_block_header_unpacked_copied & 0xFFFFFF\n",
        "\n",
        "print(f\"Last metadata block flag: {sample_rate}\")\n",
        "print(f\"Block type: {bits2_to_8}\")\n",
        "print(f\"Length of metadata: {bits9_to_32}\")"
      ],
      "metadata": {
        "colab": {
          "base_uri": "https://localhost:8080/"
        },
        "id": "6KFcbeEKCun9",
        "outputId": "79912dc1-e0b0-4886-cc67-3db85271a746"
      },
      "execution_count": 27,
      "outputs": [
        {
          "output_type": "stream",
          "name": "stdout",
          "text": [
            "Last metadata block flag: 0\n",
            "Block type: 0\n",
            "Length of metadata: 34\n"
          ]
        }
      ]
    },
    {
      "cell_type": "markdown",
      "source": [
        "### METADATA_BLOCK_STREAMINFO\n",
        "\n",
        "The block consists of this information:\n",
        "\n",
        "* Minimum block size (in samples) used in the stream (16 bits)\n",
        "* Maximum block size (in samples) used in the stream. (16 bits)\n",
        "* Minimum frame size (in bytes) used in the stream. (24 bits)\n",
        "* Maximum frame size (in bytes) used in the stream. (24 bits)\n",
        "* Sample rate in Hz (20 bits)\n",
        "* Number of channels - 1 (range: 1 - 8 channels) (3 bits)\n",
        "* Bits per sample - 1 (range: 4 - 32) (5 bits)\n",
        "* Total samples in stream. (36 bits)\n",
        "\n",
        "Total 144 bits\n",
        "\n",
        "To simplify the bytes reading, we can break the readings into some sections:\n",
        "\n",
        "* Min Block_size. (16 bits)\n",
        "* Max block size and frame_size. (16 + 24 + 24 = 64 bits)\n",
        "* Other informations. (20 + 3 + 5 + 36 = 64 bits)"
      ],
      "metadata": {
        "id": "ms4Du5L1jhWY"
      }
    },
    {
      "cell_type": "code",
      "source": [
        "minblocksize_packed = sample_file.read(2)\n",
        "maxblocksize_framesize_packed = sample_file.read(8)\n",
        "samplerate_nochannels_bits_totalsample_packed = sample_file.read(8)\n",
        "\n",
        "# Unpack the data using struct\n",
        "minblocksize_unpacked = struct.unpack(\n",
        "    \">H\", minblocksize_packed\n",
        ")[0]\n",
        "maxblocksize_framesize_unpacked = struct.unpack(\n",
        "    \">Q\", maxblocksize_framesize_packed\n",
        ")[0]\n",
        "samplerate_nochannels_bits_totalsample_unpacked = struct.unpack(\n",
        "    \">Q\", samplerate_nochannels_bits_totalsample_packed\n",
        ")[0]"
      ],
      "metadata": {
        "id": "3hZk6FOrjHY7"
      },
      "execution_count": 28,
      "outputs": []
    },
    {
      "cell_type": "code",
      "source": [
        "# Extract and print the specified bits\n",
        "minblocksize_packed_unpacked_copied = minblocksize_unpacked\n",
        "maxblocksize_framesize_unpacked_copied = maxblocksize_framesize_unpacked\n",
        "samplerate_nochannels_bits_totalsample_unpacked_copied = samplerate_nochannels_bits_totalsample_unpacked\n",
        "\n",
        "print(f\"Min block size: {minblocksize_packed_unpacked_copied}\")\n",
        "\n",
        "# Extract and print the first 16 bits\n",
        "max_block_size = (maxblocksize_framesize_unpacked_copied >> 48) & 0xFFFF\n",
        "\n",
        "# Extract and print the next 24 bits\n",
        "min_frame_size = (maxblocksize_framesize_unpacked_copied >> 24) & 0xFFFFFF\n",
        "\n",
        "# Extract and print the next 24 bits\n",
        "max_frame_size = maxblocksize_framesize_unpacked_copied & 0xFFFFFF\n",
        "\n",
        "print(f\"Max block size: {max_block_size}\")\n",
        "print(f\"Min frame size: {min_frame_size}\")\n",
        "print(f\"Max frame size: {max_frame_size}\")\n",
        "\n",
        "# Extract and print the first 20 bits\n",
        "sample_rate = (samplerate_nochannels_bits_totalsample_unpacked_copied >> 44) & 0xFFFFF\n",
        "\n",
        "# Extract and print the next 3 bits\n",
        "no_channels = (samplerate_nochannels_bits_totalsample_unpacked_copied >> 41) & 0b111\n",
        "\n",
        "# Extract and print the next 5 bits\n",
        "bits = (samplerate_nochannels_bits_totalsample_unpacked_copied >> 36) & 0b11111\n",
        "\n",
        "# Extract and print the next 36 bits\n",
        "total_sample = samplerate_nochannels_bits_totalsample_unpacked_copied & 0xFFFFFFFFF\n",
        "\n",
        "print(f\"Sample rate: {sample_rate}\")\n",
        "print(f\"No channels: {no_channels + 1}\")\n",
        "print(f\"Bits: {bits + 1}\")\n",
        "print(f\"Total sample: {total_sample}\")"
      ],
      "metadata": {
        "colab": {
          "base_uri": "https://localhost:8080/"
        },
        "id": "uQbkcsAoFHm6",
        "outputId": "a0745689-423f-4af8-ee51-5d1e8c77c08d"
      },
      "execution_count": 29,
      "outputs": [
        {
          "output_type": "stream",
          "name": "stdout",
          "text": [
            "Min block size: 4096\n",
            "Max block size: 4096\n",
            "Min frame size: 107\n",
            "Max frame size: 5961\n",
            "Sample rate: 16000\n",
            "No channels: 0\n",
            "Bits: 15\n",
            "Total sample: 225360\n"
          ]
        }
      ]
    },
    {
      "cell_type": "markdown",
      "source": [
        "## Comparation with SoX Library\n",
        "\n",
        "To check our logic from before, we can use Python SoX library."
      ],
      "metadata": {
        "id": "-0n-I7Ionj2A"
      }
    },
    {
      "cell_type": "markdown",
      "source": [
        "Option 1: Using Sox --i command."
      ],
      "metadata": {
        "id": "x5nP4Lyb2Ska"
      }
    },
    {
      "cell_type": "code",
      "source": [
        "! sox --i \"/content/LibriSpeech/train-clean-100/103/1240/103-1240-0000.flac\""
      ],
      "metadata": {
        "colab": {
          "base_uri": "https://localhost:8080/"
        },
        "id": "-ODYJG1hwdD2",
        "outputId": "3a15b4e6-5748-4f12-dae7-b16c18cdf97f"
      },
      "execution_count": 14,
      "outputs": [
        {
          "output_type": "stream",
          "name": "stdout",
          "text": [
            "\n",
            "Input File     : '/content/LibriSpeech/train-clean-100/103/1240/103-1240-0000.flac'\n",
            "Channels       : 1\n",
            "Sample Rate    : 16000\n",
            "Precision      : 16-bit\n",
            "Duration       : 00:00:14.09 = 225360 samples ~ 1056.38 CDDA sectors\n",
            "File Size      : 255k\n",
            "Bit Rate       : 145k\n",
            "Sample Encoding: 16-bit FLAC\n",
            "\n"
          ]
        }
      ]
    },
    {
      "cell_type": "markdown",
      "source": [
        "Option 2: Using SoX wrapper in Python."
      ],
      "metadata": {
        "id": "sQlRnLeE2VD0"
      }
    },
    {
      "cell_type": "code",
      "source": [
        "sox_sample_path = sample_path\n",
        "\n",
        "sox_sample_rate = sox.file_info.sample_rate(sox_sample_path)\n",
        "sox_channels = sox.file_info.channels(sox_sample_path)\n",
        "sox_extension_file = sox.file_info.file_extension(sox_sample_path)\n",
        "sox_file_type = sox.file_info.file_type(sox_sample_path)\n",
        "\n",
        "print(f\"Analyzing file using SoX:\")\n",
        "print(f\"Sample rate: {sox_sample_rate}\")\n",
        "print(f\"No channels: {sox_channels}\")\n",
        "print(f\"Extension file: {sox_extension_file}\")\n",
        "print(f\"File type: {sox_file_type}\")"
      ],
      "metadata": {
        "colab": {
          "base_uri": "https://localhost:8080/"
        },
        "id": "1PBUGgHenmFq",
        "outputId": "de9f3260-11ed-4ee6-aa95-acac37a61edc"
      },
      "execution_count": 13,
      "outputs": [
        {
          "output_type": "stream",
          "name": "stdout",
          "text": [
            "Analyzing file using SoX:\n",
            "Sample rate: 16000.0\n",
            "No channels: 1\n",
            "Extension file: flac\n",
            "File type: flac\n"
          ]
        }
      ]
    }
  ]
}